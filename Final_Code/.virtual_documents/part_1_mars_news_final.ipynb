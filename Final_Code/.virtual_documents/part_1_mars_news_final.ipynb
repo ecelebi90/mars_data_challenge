


#Import Splinter and BeautifulSoup
from splinter import Browser
from bs4 import BeautifulSoup


browser = Browser('chrome')





# Visist the Mars news site
url = 'https://static.bc-edx.com/data/web/mars_news/index.html'
browser.visit(url)





#Create a Beautiful Soup object
html= browser.html

# Create a BeautifulSoup object from the scraped HTML
soup = BeautifulSoup(html, 'html.parser')

#select one news article with select_one()
#slide_elem = soup.select_one('div.list_text')

#scrape the title of the news article
#list_texts = slide_elem.find('div', class_='content_title')

#Extract all the text elements
list_texts = soup.find_all("div", class_="list_text")



list_texts





# Create an empty list ot store the dictionaries
mars_news_list = []



# Loop through the text elements
for list_text in list_texts:
    title = list_text.find("div", class_="content_title").text.strip()
    preview = list_text.find("div", class_="article_teaser_body").text.strip()
    mars_news_dic= {"title" : title, 
                   "preview": preview}
    mars_news_list.append(mars_news_dic)

mars_news_list  
    



browser.quit()



