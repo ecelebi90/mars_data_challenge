


#Import relevant libraries
from splinter import Browser
from bs4 import BeautifulSoup
import matplotlib.pyplot as plt
import pandas as pd


browser = Browser('chrome')





# Visit the website
# https://static.bc-edx.com/data/web/mars_facts/temperature.html
url = "https://static.bc-edx.com/data/web/mars_facts/temperature.html"
browser.visit(url)


# Create a Beautiful Soup Object
html= browser.html

# Create a BeautifulSoup object from the scraped HTML
soup = BeautifulSoup(html, 'html.parser')


# Extract all rows of data
list_of_trs = soup.find_all("tr", class_="data-row")





# Create an empty list
tds_list = []

# Loop through the scraped data to create a list of rows
for tr in list_of_trs:
    tds = tr.find_all("td")
    tds_dic = {"id": tds[0].text, 
               "terrestrial_date": tds[1].text, 
               "sol":tds[2].text,
               "ls":tds[3].text,
               "month":tds[4].text,
               "min_tem":tds[5].text,
               "pressure":tds[6].text
              }
    tds_list.append(tds_dic)



# Create a Pandas DataFrame by using the list of rows and a list of the column names
mars_df = pd.DataFrame(tds_list)


# Confirm DataFrame was created successfully
mars_df.head()





# Examine data type of each column
mars_df.dtypes


# Change data types for data analysis
mars_df["terrestrial_date"] = pd.to_datetime(mars_df["terrestrial_date"])
mars_df["sol"] = mars_df["sol"].astype('int')
mars_df["ls"] = mars_df["ls"].astype('int')
mars_df["month"] = mars_df["month"].astype('int')
mars_df["min_tem"] = mars_df["min_tem"].astype('float')
mars_df["pressure"] = mars_df["pressure"].astype('float')
mars_df.dtypes





# 1. How many months are there on Mars?
month_mars = len(mars_df['month'].unique())
month_mars


# 2. How many sols (Martian days) worth of data are there?
count_sols =  mars_df["sol"].count()
count_sols


# 3. What is the average minimum temperature by month?
avg_mars_month = mars_df.groupby("month")["min_tem"].mean()
avg_mars_month



# Plot the average minimum temperature by month
avg_mars_month_df = avg_mars_month.to_frame()
avg_mars_month_df.plot(kind='bar')
plt.xlabel('month')
plt.ylabel('Temperature in Celsius')
plt.title('Average Minimum Temperature by Month')
plt.show()


# Identify the coldest and hottest months in Curiosity's location by sorting the previous graph
avg_mars_month_reorder_df = avg_mars_month_df.sort_values(by = 'min_tem', ascending = True)
avg_mars_month_reorder_df.plot(kind='bar')
plt.xlabel('month')
plt.ylabel('Temperature in Celsius')
plt.title('Average Minimum Temperature by Month')
plt.show()


# 4. What is the average pressure by month?
avg_mars_pressure = mars_df.groupby('month')['pressure'].mean()
avg_mars_pressure


# Plot the average pressure by month
avg_mars_pressure_df = avg_mars_pressure.to_frame()
avg_mars_pressure_df.plot(kind='bar')
plt.xlabel('month')
plt.ylabel('Atmospheric Pressure')
plt.title('Average Pressure by Month')
plt.show()


# Identify the lowest and highest pressure months in Curiosity's location by sorting the previous graph
avg_mars_pressure_reorder_df = avg_mars_pressure_df.sort_values(by ='pressure', ascending = True)
avg_mars_pressure_reorder_df.plot(kind= 'bar')
plt.xlabel('month')
plt.ylabel('Atmospheric Pressure')
plt.title('Average Pressure by Month')
plt.show()


# 5. How many terrestrial (Earth) days are there in a Martian year?
# Visually estimate the result by plotting the daily minimum temperature of each observation in the data set.
temp_date_df = mars_df.reset_index()
temp_date_df.plot.line(x='index', y='min_tem', xlabel='Number of terrestrial days', ylabel='Minimum temperature', 
                  title='Minimum Temperature over Time')
plt.show()















# Write the data to a CSV
import csv

#Path to the CSV file
csv_file = 'output_data/MarsData_Output.csv'

#Writing to CSV
mars_df.to_csv(csv_file, index=False)
   


browser.quit()



